{
 "cells": [
  {
   "cell_type": "code",
   "execution_count": null,
   "id": "9d290d7e-908c-4e72-9c1d-a005f6a905f9",
   "metadata": {},
   "outputs": [],
   "source": [
    "import pandas as pd \n",
    "import numpy as np\n",
    "from glob import glob\n",
    "from matplotlib import pyplot as plt\n",
    "import seaborn as sns\n",
    "from tqdm import tqdm\n",
    "gpu_folders = pd.Series(glob('/home/motion/Joao/Papers/IROS 2025/gpu_mem-20250228T050518Z-001/gpu_mem/**/gpu_memory_usage.npy',recursive = True))\n",
    "\n",
    "custom_params = {\"axes.spines.right\": False, \"axes.spines.top\": False,'font.weight':'bold',\"axes.labelweight\":'bold'}\n",
    "sns.set_theme(style=\"whitegrid\", palette=\"colorblind\",rc = custom_params)"
   ]
  },
  {
   "cell_type": "code",
   "execution_count": null,
   "id": "0e370874-7b3c-4b25-a488-d3b0d2645570",
   "metadata": {},
   "outputs": [],
   "source": [
    "translation_dict = {'Segformer Naive Bayesian':'RBU', 'Segformer Naive Averaging':'NA',\n",
    "       'Segformer Encoded Averaging4':'EF-4', 'Segformer topk2':'CTKH-2',\n",
    "       'Segformer Histogram':'Hist', 'Segformer Encoded Averaging2':'EF-2',\n",
    "       'Segformer topk8':'CTKH-8', 'Segformer Encoded Averaging8':'EF-8',\n",
    "       'Segformer topk4':'CTKH-4'}\n",
    "\n",
    "exp_name_to_type = {'CTKH-2':'hist','CTKH-4':'hist','CTKH-8':'hist','EF-2':'avg','EF-4':'avg','EF-8':'avg','Hist':'hist','RBU':'bayes','NA':'avg'}"
   ]
  },
  {
   "cell_type": "code",
   "execution_count": null,
   "id": "990f6a21-e2ad-4dac-ba51-03d4834c9d61",
   "metadata": {},
   "outputs": [],
   "source": [
    "tmp = gpu_folders.str.split('/',expand = True)\n",
    "experiment_names = tmp.iloc[:,-3]\n",
    "scene_names = tmp.iloc[:,-2]\n",
    "dfs = []\n",
    "\n",
    "for folder,experiment,scene in tqdm(zip(gpu_folders.values,experiment_names.values,scene_names.values)):\n",
    "    data = np.load(folder)-1.3\n",
    "    tmp_df = pd.DataFrame({'GPU usage':data})\n",
    "    exp = translation_dict[experiment]\n",
    "    kind = exp_name_to_type[exp]\n",
    "    tmp_df.loc[:,'experiment'] = translation_dict[experiment]\n",
    "    tmp_df.loc[:,'scene'] = scene\n",
    "    tmp_df.loc[:,'kind'] = kind\n",
    "    dfs.append(tmp_df)"
   ]
  },
  {
   "cell_type": "code",
   "execution_count": null,
   "id": "53cbc743-21e2-47d0-803c-f9520db7114e",
   "metadata": {},
   "outputs": [],
   "source": [
    "all_dfs= pd.concat(dfs)\n",
    "\n",
    "max_dfs = all_dfs.groupby(by = ['scene']).max().reset_index()\n",
    "max_dfs.rename(columns = {'GPU usage':'Max Usage'},inplace = True)\n",
    "max_dfs.drop(columns = ['experiment','kind'],inplace = True)\n",
    "\n",
    "all_dfs = pd.merge(all_dfs,max_dfs,how = 'left', on ='scene')\n",
    "all_dfs.loc[:,'GPU Usage Ratio'] = 100*all_dfs.loc[:,'GPU usage']/all_dfs.loc[:,'Max Usage']\n",
    "max_ratios = all_dfs.groupby(by = ['experiment','scene']).max().reset_index()"
   ]
  },
  {
   "cell_type": "code",
   "execution_count": null,
   "id": "fea1fda9-7e21-4759-b7bd-99be299a3eeb",
   "metadata": {},
   "outputs": [],
   "source": [
    "max_ratios"
   ]
  },
  {
   "cell_type": "code",
   "execution_count": null,
   "id": "c6ea2669-a090-4f2b-887c-d5d9acd4b125",
   "metadata": {},
   "outputs": [],
   "source": [
    "plt.figure(figsize = (7,3))\n",
    "order = ['RBU','CTKH-2','CTKH-4','CTKH-8','Hist','EF-2','EF-4','EF-8','NA']\n",
    "\n",
    "ax = sns.violinplot(max_ratios,x = 'experiment',y = 'GPU Usage Ratio', order = order, hue = 'kind',hue_order =['avg','bayes','hist'])\n",
    "plt.xlabel('')\n",
    "plt.ylabel('VRAM Usage Ratio (% of NA)')\n",
    "ax.legend().remove()\n",
    "ax.grid(visible = False)\n",
    "plt.savefig('./figures/gpu_memory_usage_ratios.pdf',bbox_inches = 'tight')"
   ]
  },
  {
   "cell_type": "markdown",
   "id": "44bbf254-6218-4643-8c63-f4b6d44a6e7f",
   "metadata": {},
   "source": [
    "# Doing the same for frame timings:"
   ]
  },
  {
   "cell_type": "code",
   "execution_count": null,
   "id": "6cf2edee-1a94-4115-aca1-460467341fa8",
   "metadata": {},
   "outputs": [],
   "source": [
    "import pandas as pd \n",
    "import numpy as np\n",
    "from glob import glob\n",
    "from matplotlib import pyplot as plt\n",
    "import seaborn as sns\n",
    "from tqdm import tqdm\n",
    "gpu_folders = pd.Series(glob('/home/motion/Joao/Papers/IROS 2025/update_times-20250228T050513Z-001/update_times/**/reconstruction_times.npy',recursive = True))\n",
    "\n",
    "custom_params = {\"axes.spines.right\": False, \"axes.spines.top\": False,'font.weight':'bold',\"axes.labelweight\":'bold'}\n",
    "sns.set_theme(style=\"whitegrid\", palette=\"colorblind\",rc = custom_params)\n",
    "translation_dict = {'Segformer Naive Bayesian':'RBU', 'Segformer Naive Averaging':'NA',\n",
    "       'Segformer Encoded Averaging4':'EF-4', 'Segformer topk2':'CTKH-2',\n",
    "       'Segformer Histogram':'Hist', 'Segformer Encoded Averaging2':'EF-2',\n",
    "       'Segformer topk8':'CTKH-8', 'Segformer Encoded Averaging8':'EF-8',\n",
    "       'Segformer topk4':'CTKH-4'}\n",
    "\n",
    "exp_name_to_type = {'CTKH-2':'hist','CTKH-4':'hist','CTKH-8':'hist','EF-2':'avg','EF-4':'avg','EF-8':'avg','Hist':'hist','RBU':'bayes','NA':'avg'}\n"
   ]
  },
  {
   "cell_type": "code",
   "execution_count": null,
   "id": "d17e9149-7abc-411c-8719-f13fa85acf86",
   "metadata": {},
   "outputs": [],
   "source": [
    "tmp = gpu_folders.str.split('/',expand = True)\n",
    "experiment_names = tmp.iloc[:,-3]\n",
    "scene_names = tmp.iloc[:,-2]\n",
    "dfs = []\n",
    "\n",
    "for folder,experiment,scene in tqdm(zip(gpu_folders.values,experiment_names.values,scene_names.values)):\n",
    "    data = np.load(folder)\n",
    "    tmp_df = pd.DataFrame({'frame timings':data})\n",
    "    exp = translation_dict[experiment]\n",
    "    kind = exp_name_to_type[exp]\n",
    "    tmp_df.loc[:,'experiment'] = translation_dict[experiment]\n",
    "    tmp_df.loc[:,'scene'] = scene\n",
    "    tmp_df.loc[:,'kind'] = kind\n",
    "    dfs.append(tmp_df)"
   ]
  },
  {
   "cell_type": "code",
   "execution_count": null,
   "id": "0c96f987-a1ab-4d17-89a0-d96ed51de3e7",
   "metadata": {},
   "outputs": [],
   "source": []
  },
  {
   "cell_type": "code",
   "execution_count": null,
   "id": "60f166cd-059c-4339-8edb-73a32c1415ff",
   "metadata": {},
   "outputs": [],
   "source": [
    "plt.figure(figsize = (7,3))\n",
    "\n",
    "all_dfs= pd.concat(dfs)\n",
    "order = ['RBU','CTKH-2','CTKH-4','CTKH-8','Hist','EF-2','EF-4','EF-8','NA']\n",
    "\n",
    "ax = sns.boxplot(data = all_dfs,x = 'experiment',y = 'frame timings',hue = 'kind',showfliers = False,order= order, whis = [5,95],hue_order =['avg','bayes','hist'])\n",
    "plt.ylabel('Time per frame (s)')\n",
    "plt.xlabel('')\n",
    "ax.legend().remove()\n",
    "ax.grid(visible = False)\n",
    "\n",
    "plt.savefig('./figures/frame_times.pdf',bbox_inches = 'tight')"
   ]
  },
  {
   "cell_type": "code",
   "execution_count": null,
   "id": "2dad0c6f-7dc3-4537-a4e9-d47b1650a79f",
   "metadata": {},
   "outputs": [],
   "source": [
    "all_dfs"
   ]
  },
  {
   "cell_type": "markdown",
   "id": "17c1c5b6-2bde-4036-8d57-2416e0ca8299",
   "metadata": {},
   "source": [
    "# Creating the Scannet Results plot"
   ]
  },
  {
   "cell_type": "code",
   "execution_count": 167,
   "id": "659d9c78-1b17-48f1-8b73-f1213df09e11",
   "metadata": {},
   "outputs": [],
   "source": [
    "import pandas as pd \n",
    "import numpy as np\n",
    "from glob import glob\n",
    "from matplotlib import pyplot as plt\n",
    "import seaborn as sns\n",
    "from tqdm import tqdm\n",
    "custom_params = {\"axes.spines.right\": False, \"axes.spines.top\": False,'font.weight':'bold',\"axes.labelweight\":'bold'}\n",
    "sns.set_theme(style=\"whitegrid\", palette=\"colorblind\",rc = custom_params)\n",
    "\n",
    "# exp_name_to_type = {'CTKH-1':'hist','CTKH-2':'hist','CTKH-3':'hist','CTKH-4':'hist','EF-2':'avg','EF-4':'avg','EF-8':'avg','Hist':'hist','RBU':'bayes','NA':'avg'}\n",
    "\n",
    "# order2 = ['RBU','CTKH-1','CTKH-2','CTKH-3','CTKH-4','Hist','EF-2','EF-4','EF-8','NA']\n",
    "# order1 = ['RBU','CTKH-2','CTKH-4','Hist','EF-2','EF-4','NA']\n",
    "exp_name_to_type = {'CTKH-1':'hist','CTKH-2':'hist','CTKH-3':'hist','CTKH-4':'hist',\n",
    "                    'CTKH-8':'hist','EF-2':'avg','EF-4':'avg','EF-8':'avg','Hist':'hist','RBU':'bayes',\n",
    "                    'NA':'avg','MG-2':'hist','MG-4':'hist','MG-8':'hist','KH-2':'hist','KH-4':'hist','KH-8':'hist'}\n",
    "\n",
    "order3 = ['RBU','CTKH-2','MG-2','KH-2','CTKH-4','MG-4','KH-4','MG-8','KH-8','Hist','EF-2','EF-4','EF-8','NA']\n",
    "\n",
    "\n",
    "def process_iou_df(filename,model_type):\n",
    "    ious = pd.read_excel(filename)\n",
    "    ious.rename(columns = {'experiments':'method'},inplace = True)\n",
    "    ious.loc[0,'method'] = 'NA'\n",
    "    kind = []\n",
    "    for tmp in ious.method.values:\n",
    "        kind.append(exp_name_to_type[tmp])\n",
    "    ious.loc[:,'kind'] = kind\n",
    "    ious.loc[:,'model'] = model_type\n",
    "    return ious\n",
    "\n",
    "# esanet_df = process_iou_df('/home/motion/Joao/Papers/IROS 2025/scannet_results/ESANET/3D IoUs.xlsx','ESANet')\n",
    "segformer_df = process_iou_df('/home/motion/Joao/Papers/IROS 2025/scannet_results/combined/3D IoUs.xlsx','Segformer')\n",
    "\n",
    "final_df = pd.concat([esanet_df,segformer_df])"
   ]
  },
  {
   "cell_type": "code",
   "execution_count": 168,
   "id": "2074345e-eb30-46a5-819f-3e630f451e87",
   "metadata": {},
   "outputs": [
    {
     "data": {
      "image/png": "[encoded data removed]",
      "text/plain": [
       "<Figure size 300x200 with 1 Axes>"
      ]
     },
     "metadata": {},
     "output_type": "display_data"
    }
   ],
   "source": [
    "plt.figure(figsize = (3,2))\n",
    "# ious = pd.read_excel('/home/motion/Joao/Papers/IROS 2025/scannet_results/3D IoUs.xlsx')\n",
    "# ious.rename(columns = {'experiments':'method'},inplace = True)\n",
    "# ious.loc[0,'method'] = 'NA'\n",
    "# kind = []\n",
    "# for tmp in ious.method.values:\n",
    "#     print(tmp)\n",
    "#     kind.append(exp_name_to_type[tmp])\n",
    "# ious.loc[:,'kind'] = kind\n",
    "\n",
    "ax = sns.barplot(segformer_df,x = 'method',y = 'mIoU',hue = 'kind',order = order3)\n",
    "\n",
    "plt.xlabel('')\n",
    "plt.ylabel('mIoU$\\\\uparrow$')\n",
    "ax.legend().remove()\n",
    "ax.grid(visible = False)\n",
    "plt.xticks(rotation=90)\n",
    "plt.savefig('./figures/ScanNet Segformer mIoUs.pdf',bbox_inches = 'tight')"
   ]
  },
  {
   "cell_type": "code",
   "execution_count": 169,
   "id": "2bf3489d-d3ec-4a5f-9edd-76ecdc63207e",
   "metadata": {},
   "outputs": [
    {
     "ename": "AttributeError",
     "evalue": "'numpy.ndarray' object has no attribute 'axes'",
     "output_type": "error",
     "traceback": [
      "\u001b[0;31m---------------------------------------------------------------------------\u001b[0m",
      "\u001b[0;31mAttributeError\u001b[0m                            Traceback (most recent call last)",
      "Cell \u001b[0;32mIn[169], line 1\u001b[0m\n\u001b[0;32m----> 1\u001b[0m \u001b[43maxes\u001b[49m\u001b[38;5;241;43m.\u001b[39;49m\u001b[43maxes\u001b[49m[\u001b[38;5;241m0\u001b[39m][\u001b[38;5;241m0\u001b[39m]\n",
      "\u001b[0;31mAttributeError\u001b[0m: 'numpy.ndarray' object has no attribute 'axes'"
     ]
    }
   ],
   "source": [
    "axes.axes[0][0]"
   ]
  },
  {
   "cell_type": "code",
   "execution_count": null,
   "id": "a9c62806-9273-455c-b208-f1feff93a893",
   "metadata": {},
   "outputs": [],
   "source": [
    "ious"
   ]
  },
  {
   "cell_type": "markdown",
   "id": "f0f197c3-d524-4313-b50b-a13dc4b34ae1",
   "metadata": {},
   "source": [
    "# Now for the Eces"
   ]
  },
  {
   "cell_type": "code",
   "execution_count": 170,
   "id": "ecc33c2c-55e8-4b3a-8000-3570c31bd040",
   "metadata": {},
   "outputs": [
    {
     "data": {
      "image/png": "[encoded data removed]",
      "text/plain": [
       "<Figure size 300x200 with 1 Axes>"
      ]
     },
     "metadata": {},
     "output_type": "display_data"
    }
   ],
   "source": [
    "plt.figure(figsize = (3,2))\n",
    "\n",
    "ious = pd.read_excel('/home/motion/Joao/Papers/IROS 2025/scannet_results/combined/ECEs by class and experiment_alt_finetuned.xlsx')\n",
    "ious.rename(columns = {'experiments':'method'},inplace = True)\n",
    "ious.loc[0,'method'] = 'NA'\n",
    "kind = []\n",
    "for tmp in ious.method.values:\n",
    "    kind.append(exp_name_to_type[tmp])\n",
    "ious.loc[:,'kind'] = kind\n",
    "\n",
    "ax = sns.barplot(ious,x = 'method',y = 'mECE -all',hue = 'kind',order = order3)\n",
    "\n",
    "plt.xlabel('')\n",
    "plt.ylabel('mECE$\\\\downarrow$')\n",
    "ax.legend().remove()\n",
    "ax.grid(visible = False)\n",
    "plt.xticks(rotation=90)\n",
    "plt.savefig('./figures/ScanNet mECEs Segformer.pdf',bbox_inches = 'tight')"
   ]
  },
  {
   "cell_type": "markdown",
   "id": "d7871eb7-a222-4f23-8c81-400b0f710bcf",
   "metadata": {},
   "source": [
    "# and Brier Scores"
   ]
  },
  {
   "cell_type": "code",
   "execution_count": 171,
   "id": "b79ca5b9-d789-4dd9-9410-862f8cf9a743",
   "metadata": {
    "scrolled": true
   },
   "outputs": [
    {
     "data": {
      "image/png": "[encoded data removed]",
      "text/plain": [
       "<Figure size 300x200 with 1 Axes>"
      ]
     },
     "metadata": {},
     "output_type": "display_data"
    }
   ],
   "source": [
    "plt.figure(figsize = (3,2))\n",
    "\n",
    "ious = pd.read_excel('/home/motion/Joao/Papers/IROS 2025/scannet_results/combined/brier_scores.xlsx')\n",
    "ious.rename(columns = {'experiments':'method'},inplace = True)\n",
    "ious.loc[0,'method'] = 'NA'\n",
    "kind = []\n",
    "for tmp in ious.method.values:\n",
    "    kind.append(exp_name_to_type[tmp])\n",
    "ious.loc[:,'kind'] = kind\n",
    "\n",
    "ax = sns.barplot(ious,x = 'method',y = 'Brier',hue = 'kind',order = order3)\n",
    "\n",
    "plt.xlabel('')\n",
    "plt.ylabel('Brier Score$\\\\downarrow$')\n",
    "ax.legend().remove()\n",
    "ax.grid(visible = False)\n",
    "plt.xticks(rotation=90)\n",
    "plt.savefig('./figures/ScanNet Segformer Brier Scores.pdf',bbox_inches = 'tight')"
   ]
  },
  {
   "cell_type": "markdown",
   "id": "c5724bd7-b8c5-4dcd-a7fe-678cf43c09e6",
   "metadata": {},
   "source": [
    "# Now creating the effect of calibration figure"
   ]
  },
  {
   "cell_type": "code",
   "execution_count": 1,
   "id": "10665c63-10d9-4f9d-88ac-3ea89bf49473",
   "metadata": {},
   "outputs": [
    {
     "ename": "FileNotFoundError",
     "evalue": "[Errno 2] No such file or directory: '/home/motion/Joao/Papers/IROS 2025/effect of calibration correction/effect_of_calibration_correction.xlsx'",
     "output_type": "error",
     "traceback": [
      "\u001b[1;31m---------------------------------------------------------------------------\u001b[0m",
      "\u001b[1;31mFileNotFoundError\u001b[0m                         Traceback (most recent call last)",
      "\u001b[1;32m~\\AppData\\Local\\Temp\\ipykernel_7552\\1058342796.py\u001b[0m in \u001b[0;36m<module>\u001b[1;34m\u001b[0m\n\u001b[0;32m     10\u001b[0m \u001b[0msns\u001b[0m\u001b[1;33m.\u001b[0m\u001b[0mset_theme\u001b[0m\u001b[1;33m(\u001b[0m\u001b[0mstyle\u001b[0m\u001b[1;33m=\u001b[0m\u001b[1;34m\"whitegrid\"\u001b[0m\u001b[1;33m,\u001b[0m \u001b[0mpalette\u001b[0m\u001b[1;33m=\u001b[0m\u001b[1;34m\"colorblind\"\u001b[0m\u001b[1;33m,\u001b[0m\u001b[0mrc\u001b[0m \u001b[1;33m=\u001b[0m \u001b[0mcustom_params\u001b[0m\u001b[1;33m)\u001b[0m\u001b[1;33m\u001b[0m\u001b[1;33m\u001b[0m\u001b[0m\n\u001b[0;32m     11\u001b[0m \u001b[1;33m\u001b[0m\u001b[0m\n\u001b[1;32m---> 12\u001b[1;33m \u001b[0mdf\u001b[0m \u001b[1;33m=\u001b[0m \u001b[0mpd\u001b[0m\u001b[1;33m.\u001b[0m\u001b[0mread_excel\u001b[0m\u001b[1;33m(\u001b[0m\u001b[1;34m'/home/motion/Joao/Papers/IROS 2025/effect of calibration correction/effect_of_calibration_correction.xlsx'\u001b[0m\u001b[1;33m)\u001b[0m\u001b[1;33m\u001b[0m\u001b[1;33m\u001b[0m\u001b[0m\n\u001b[0m",
      "\u001b[1;32mc:\\Users\\valla\\Anaconda3\\envs\\3d_fusion\\lib\\site-packages\\pandas\\util\\_decorators.py\u001b[0m in \u001b[0;36mwrapper\u001b[1;34m(*args, **kwargs)\u001b[0m\n\u001b[0;32m    309\u001b[0m                     \u001b[0mstacklevel\u001b[0m\u001b[1;33m=\u001b[0m\u001b[0mstacklevel\u001b[0m\u001b[1;33m,\u001b[0m\u001b[1;33m\u001b[0m\u001b[1;33m\u001b[0m\u001b[0m\n\u001b[0;32m    310\u001b[0m                 )\n\u001b[1;32m--> 311\u001b[1;33m             \u001b[1;32mreturn\u001b[0m \u001b[0mfunc\u001b[0m\u001b[1;33m(\u001b[0m\u001b[1;33m*\u001b[0m\u001b[0margs\u001b[0m\u001b[1;33m,\u001b[0m \u001b[1;33m**\u001b[0m\u001b[0mkwargs\u001b[0m\u001b[1;33m)\u001b[0m\u001b[1;33m\u001b[0m\u001b[1;33m\u001b[0m\u001b[0m\n\u001b[0m\u001b[0;32m    312\u001b[0m \u001b[1;33m\u001b[0m\u001b[0m\n\u001b[0;32m    313\u001b[0m         \u001b[1;32mreturn\u001b[0m \u001b[0mwrapper\u001b[0m\u001b[1;33m\u001b[0m\u001b[1;33m\u001b[0m\u001b[0m\n",
      "\u001b[1;32mc:\\Users\\valla\\Anaconda3\\envs\\3d_fusion\\lib\\site-packages\\pandas\\io\\excel\\_base.py\u001b[0m in \u001b[0;36mread_excel\u001b[1;34m(io, sheet_name, header, names, index_col, usecols, squeeze, dtype, engine, converters, true_values, false_values, skiprows, nrows, na_values, keep_default_na, na_filter, verbose, parse_dates, date_parser, thousands, comment, skipfooter, convert_float, mangle_dupe_cols, storage_options)\u001b[0m\n\u001b[0;32m    362\u001b[0m     \u001b[1;32mif\u001b[0m \u001b[1;32mnot\u001b[0m \u001b[0misinstance\u001b[0m\u001b[1;33m(\u001b[0m\u001b[0mio\u001b[0m\u001b[1;33m,\u001b[0m \u001b[0mExcelFile\u001b[0m\u001b[1;33m)\u001b[0m\u001b[1;33m:\u001b[0m\u001b[1;33m\u001b[0m\u001b[1;33m\u001b[0m\u001b[0m\n\u001b[0;32m    363\u001b[0m         \u001b[0mshould_close\u001b[0m \u001b[1;33m=\u001b[0m \u001b[1;32mTrue\u001b[0m\u001b[1;33m\u001b[0m\u001b[1;33m\u001b[0m\u001b[0m\n\u001b[1;32m--> 364\u001b[1;33m         \u001b[0mio\u001b[0m \u001b[1;33m=\u001b[0m \u001b[0mExcelFile\u001b[0m\u001b[1;33m(\u001b[0m\u001b[0mio\u001b[0m\u001b[1;33m,\u001b[0m \u001b[0mstorage_options\u001b[0m\u001b[1;33m=\u001b[0m\u001b[0mstorage_options\u001b[0m\u001b[1;33m,\u001b[0m \u001b[0mengine\u001b[0m\u001b[1;33m=\u001b[0m\u001b[0mengine\u001b[0m\u001b[1;33m)\u001b[0m\u001b[1;33m\u001b[0m\u001b[1;33m\u001b[0m\u001b[0m\n\u001b[0m\u001b[0;32m    365\u001b[0m     \u001b[1;32melif\u001b[0m \u001b[0mengine\u001b[0m \u001b[1;32mand\u001b[0m \u001b[0mengine\u001b[0m \u001b[1;33m!=\u001b[0m \u001b[0mio\u001b[0m\u001b[1;33m.\u001b[0m\u001b[0mengine\u001b[0m\u001b[1;33m:\u001b[0m\u001b[1;33m\u001b[0m\u001b[1;33m\u001b[0m\u001b[0m\n\u001b[0;32m    366\u001b[0m         raise ValueError(\n",
      "\u001b[1;32mc:\\Users\\valla\\Anaconda3\\envs\\3d_fusion\\lib\\site-packages\\pandas\\io\\excel\\_base.py\u001b[0m in \u001b[0;36m__init__\u001b[1;34m(self, path_or_buffer, engine, storage_options)\u001b[0m\n\u001b[0;32m   1190\u001b[0m             \u001b[1;32melse\u001b[0m\u001b[1;33m:\u001b[0m\u001b[1;33m\u001b[0m\u001b[1;33m\u001b[0m\u001b[0m\n\u001b[0;32m   1191\u001b[0m                 ext = inspect_excel_format(\n\u001b[1;32m-> 1192\u001b[1;33m                     \u001b[0mcontent_or_path\u001b[0m\u001b[1;33m=\u001b[0m\u001b[0mpath_or_buffer\u001b[0m\u001b[1;33m,\u001b[0m \u001b[0mstorage_options\u001b[0m\u001b[1;33m=\u001b[0m\u001b[0mstorage_options\u001b[0m\u001b[1;33m\u001b[0m\u001b[1;33m\u001b[0m\u001b[0m\n\u001b[0m\u001b[0;32m   1193\u001b[0m                 )\n\u001b[0;32m   1194\u001b[0m                 \u001b[1;32mif\u001b[0m \u001b[0mext\u001b[0m \u001b[1;32mis\u001b[0m \u001b[1;32mNone\u001b[0m\u001b[1;33m:\u001b[0m\u001b[1;33m\u001b[0m\u001b[1;33m\u001b[0m\u001b[0m\n",
      "\u001b[1;32mc:\\Users\\valla\\Anaconda3\\envs\\3d_fusion\\lib\\site-packages\\pandas\\io\\excel\\_base.py\u001b[0m in \u001b[0;36minspect_excel_format\u001b[1;34m(content_or_path, storage_options)\u001b[0m\n\u001b[0;32m   1069\u001b[0m \u001b[1;33m\u001b[0m\u001b[0m\n\u001b[0;32m   1070\u001b[0m     with get_handle(\n\u001b[1;32m-> 1071\u001b[1;33m         \u001b[0mcontent_or_path\u001b[0m\u001b[1;33m,\u001b[0m \u001b[1;34m\"rb\"\u001b[0m\u001b[1;33m,\u001b[0m \u001b[0mstorage_options\u001b[0m\u001b[1;33m=\u001b[0m\u001b[0mstorage_options\u001b[0m\u001b[1;33m,\u001b[0m \u001b[0mis_text\u001b[0m\u001b[1;33m=\u001b[0m\u001b[1;32mFalse\u001b[0m\u001b[1;33m\u001b[0m\u001b[1;33m\u001b[0m\u001b[0m\n\u001b[0m\u001b[0;32m   1072\u001b[0m     ) as handle:\n\u001b[0;32m   1073\u001b[0m         \u001b[0mstream\u001b[0m \u001b[1;33m=\u001b[0m \u001b[0mhandle\u001b[0m\u001b[1;33m.\u001b[0m\u001b[0mhandle\u001b[0m\u001b[1;33m\u001b[0m\u001b[1;33m\u001b[0m\u001b[0m\n",
      "\u001b[1;32mc:\\Users\\valla\\Anaconda3\\envs\\3d_fusion\\lib\\site-packages\\pandas\\io\\common.py\u001b[0m in \u001b[0;36mget_handle\u001b[1;34m(path_or_buf, mode, encoding, compression, memory_map, is_text, errors, storage_options)\u001b[0m\n\u001b[0;32m    709\u001b[0m         \u001b[1;32melse\u001b[0m\u001b[1;33m:\u001b[0m\u001b[1;33m\u001b[0m\u001b[1;33m\u001b[0m\u001b[0m\n\u001b[0;32m    710\u001b[0m             \u001b[1;31m# Binary mode\u001b[0m\u001b[1;33m\u001b[0m\u001b[1;33m\u001b[0m\u001b[1;33m\u001b[0m\u001b[0m\n\u001b[1;32m--> 711\u001b[1;33m             \u001b[0mhandle\u001b[0m \u001b[1;33m=\u001b[0m \u001b[0mopen\u001b[0m\u001b[1;33m(\u001b[0m\u001b[0mhandle\u001b[0m\u001b[1;33m,\u001b[0m \u001b[0mioargs\u001b[0m\u001b[1;33m.\u001b[0m\u001b[0mmode\u001b[0m\u001b[1;33m)\u001b[0m\u001b[1;33m\u001b[0m\u001b[1;33m\u001b[0m\u001b[0m\n\u001b[0m\u001b[0;32m    712\u001b[0m         \u001b[0mhandles\u001b[0m\u001b[1;33m.\u001b[0m\u001b[0mappend\u001b[0m\u001b[1;33m(\u001b[0m\u001b[0mhandle\u001b[0m\u001b[1;33m)\u001b[0m\u001b[1;33m\u001b[0m\u001b[1;33m\u001b[0m\u001b[0m\n\u001b[0;32m    713\u001b[0m \u001b[1;33m\u001b[0m\u001b[0m\n",
      "\u001b[1;31mFileNotFoundError\u001b[0m: [Errno 2] No such file or directory: '/home/motion/Joao/Papers/IROS 2025/effect of calibration correction/effect_of_calibration_correction.xlsx'"
     ]
    }
   ],
   "source": [
    "import pandas as pd \n",
    "import numpy as np\n",
    "from glob import glob\n",
    "from matplotlib import pyplot as plt\n",
    "import seaborn as sns\n",
    "from tqdm import tqdm\n",
    "\n",
    "custom_params = {\"axes.spines.right\": False, \"axes.spines.top\": False,'font.weight':'bold',\n",
    "                 \"axes.labelweight\":'bold','font.size':20,'axes.labelsize':16, 'xtick.labelsize':14,'ytick.labelsize':14}\n",
    "sns.set_theme(style=\"whitegrid\", palette=\"colorblind\",rc = custom_params)\n",
    "\n",
    "df = pd.read_excel('/home/motion/Joao/Papers/IROS 2025/effect of calibration correction/effect_of_calibration_correction.xlsx')"
   ]
  },
  {
   "cell_type": "code",
   "execution_count": 36,
   "id": "9c21478d-7e73-49cd-b36a-d43bb8f63db8",
   "metadata": {},
   "outputs": [
    {
     "data": {
      "image/png": "[encoded data removed]",
      "text/plain": [
       "<Figure size 1000x400 with 2 Axes>"
      ]
     },
     "metadata": {},
     "output_type": "display_data"
    }
   ],
   "source": [
    "fig,axes = plt.subplots (1,2,figsize= (10,4))\n",
    "sns.lineplot(df,x = 'K',y = 'mECE',hue = 'Fusion technique',ax = axes[0])\n",
    "sns.lineplot(df,x = 'K',y = 'Brier Scores',hue = 'Fusion technique',ax = axes[1])\n",
    "\n",
    "axes[0].set_ylim(0,0.3)\n",
    "axes[0].set_ylabel('mECE$\\\\downarrow$')\n",
    "axes[1].set_ylim(0,0.5)\n",
    "axes[1].set_ylabel('Brier Scores$\\\\downarrow$')\n",
    "axes[1].get_legend().remove()\n",
    "axes[0].grid(visible = False)\n",
    "axes[1].grid(visible= False)\n",
    "handles, labels = axes[0].get_legend_handles_labels()\n",
    "fig.legend(handles, labels, loc='lower center',ncol = 3,bbox_to_anchor = (0.465,-0.05),fontsize = 14)\n",
    "axes[0].get_legend().remove()\n",
    "plt.tight_layout(rect=[0, 0, 0.85, 1])\n",
    "plt.savefig('./figures/effect_of_calibration_correction.pdf',bbox_inches = 'tight')"
   ]
  },
  {
   "cell_type": "markdown",
   "id": "daad08de-e394-4c03-8d22-8e2ddad539b4",
   "metadata": {},
   "source": [
    "# Fixing the formatting of the agreement stats:"
   ]
  },
  {
   "cell_type": "code",
   "execution_count": 6,
   "id": "2b566921-5489-4023-be24-8e892dbdcdf5",
   "metadata": {},
   "outputs": [],
   "source": [
    "import pandas as pd\n",
    "import numpy as np \n",
    "\n",
    "df = pd.read_csv('/home/motion/Joao/Papers/IROS 2025/mean_per_class_agreement_hist_filtered.csv')"
   ]
  },
  {
   "cell_type": "code",
   "execution_count": 7,
   "id": "0827d383-1d03-433a-8f1a-76391a5e51c7",
   "metadata": {},
   "outputs": [
    {
     "data": {
      "text/html": [
       "<div>\n",
       "<style scoped>\n",
       "    .dataframe tbody tr th:only-of-type {\n",
       "        vertical-align: middle;\n",
       "    }\n",
       "\n",
       "    .dataframe tbody tr th {\n",
       "        vertical-align: top;\n",
       "    }\n",
       "\n",
       "    .dataframe thead th {\n",
       "        text-align: right;\n",
       "    }\n",
       "</style>\n",
       "<table border=\"1\" class=\"dataframe\">\n",
       "  <thead>\n",
       "    <tr style=\"text-align: right;\">\n",
       "      <th>Scene</th>\n",
       "      <th>cafeteria</th>\n",
       "      <th>campus</th>\n",
       "      <th>central</th>\n",
       "      <th>corridor</th>\n",
       "      <th>dining</th>\n",
       "      <th>foobar</th>\n",
       "      <th>hub</th>\n",
       "      <th>juice</th>\n",
       "      <th>lounge</th>\n",
       "      <th>study</th>\n",
       "      <th>waiting</th>\n",
       "    </tr>\n",
       "    <tr>\n",
       "      <th>Technique</th>\n",
       "      <th></th>\n",
       "      <th></th>\n",
       "      <th></th>\n",
       "      <th></th>\n",
       "      <th></th>\n",
       "      <th></th>\n",
       "      <th></th>\n",
       "      <th></th>\n",
       "      <th></th>\n",
       "      <th></th>\n",
       "      <th></th>\n",
       "    </tr>\n",
       "  </thead>\n",
       "  <tbody>\n",
       "    <tr>\n",
       "      <th>Maskformer Encoded Averaging4</th>\n",
       "      <td>98.078838</td>\n",
       "      <td>76.206647</td>\n",
       "      <td>82.854441</td>\n",
       "      <td>100.000000</td>\n",
       "      <td>72.064098</td>\n",
       "      <td>99.408047</td>\n",
       "      <td>99.377189</td>\n",
       "      <td>100.000000</td>\n",
       "      <td>99.999831</td>\n",
       "      <td>100.00000</td>\n",
       "      <td>99.999454</td>\n",
       "    </tr>\n",
       "    <tr>\n",
       "      <th>Maskformer Naive Bayesian</th>\n",
       "      <td>99.960267</td>\n",
       "      <td>93.226887</td>\n",
       "      <td>67.908859</td>\n",
       "      <td>100.000000</td>\n",
       "      <td>79.249466</td>\n",
       "      <td>99.940504</td>\n",
       "      <td>99.371237</td>\n",
       "      <td>99.999816</td>\n",
       "      <td>99.941995</td>\n",
       "      <td>99.99905</td>\n",
       "      <td>100.000000</td>\n",
       "    </tr>\n",
       "    <tr>\n",
       "      <th>Maskformer topk4</th>\n",
       "      <td>99.042161</td>\n",
       "      <td>74.655304</td>\n",
       "      <td>97.008140</td>\n",
       "      <td>99.957895</td>\n",
       "      <td>93.407463</td>\n",
       "      <td>98.420995</td>\n",
       "      <td>99.999919</td>\n",
       "      <td>100.000000</td>\n",
       "      <td>98.928465</td>\n",
       "      <td>100.00000</td>\n",
       "      <td>100.000000</td>\n",
       "    </tr>\n",
       "  </tbody>\n",
       "</table>\n",
       "</div>"
      ],
      "text/plain": [
       "Scene                          cafeteria     campus    central    corridor  \\\n",
       "Technique                                                                    \n",
       "Maskformer Encoded Averaging4  98.078838  76.206647  82.854441  100.000000   \n",
       "Maskformer Naive Bayesian      99.960267  93.226887  67.908859  100.000000   \n",
       "Maskformer topk4               99.042161  74.655304  97.008140   99.957895   \n",
       "\n",
       "Scene                             dining     foobar        hub       juice  \\\n",
       "Technique                                                                    \n",
       "Maskformer Encoded Averaging4  72.064098  99.408047  99.377189  100.000000   \n",
       "Maskformer Naive Bayesian      79.249466  99.940504  99.371237   99.999816   \n",
       "Maskformer topk4               93.407463  98.420995  99.999919  100.000000   \n",
       "\n",
       "Scene                             lounge      study     waiting  \n",
       "Technique                                                        \n",
       "Maskformer Encoded Averaging4  99.999831  100.00000   99.999454  \n",
       "Maskformer Naive Bayesian      99.941995   99.99905  100.000000  \n",
       "Maskformer topk4               98.928465  100.00000  100.000000  "
      ]
     },
     "execution_count": 7,
     "metadata": {},
     "output_type": "execute_result"
    }
   ],
   "source": [
    "new_df = pd.pivot_table(df,values = 'Mean Per-Class Agreement %', index = 'Technique',columns = 'Scene')\n",
    "new_df.to_excel('/home/motion/Joao/Papers/IROS 2025/pivoted_agreement_hist.xlsx')\n",
    "new_df"
   ]
  },
  {
   "cell_type": "markdown",
   "id": "dec2e471-7caf-4295-b26c-73a72ba51efb",
   "metadata": {},
   "source": [
    "# Now creating the Scannet++ Results"
   ]
  },
  {
   "cell_type": "code",
   "execution_count": 14,
   "id": "f95fd15b-e767-4785-8f76-b1263d29693e",
   "metadata": {},
   "outputs": [],
   "source": [
    "import pandas as pd \n",
    "import numpy as np\n",
    "from glob import glob\n",
    "from matplotlib import pyplot as plt\n",
    "import seaborn as sns\n",
    "from tqdm import tqdm\n",
    "\n",
    "custom_params = {\"axes.spines.right\": False, \"axes.spines.top\": False,'font.weight':'bold',\"axes.labelweight\":'bold'}\n",
    "sns.set_theme(style=\"whitegrid\", palette=\"colorblind\",rc = custom_params)\n",
    "\n",
    "exp_name_to_type = {'CTKH-1':'hist','CTKH-2':'hist','CTKH-3':'hist','CTKH-4':'hist',\n",
    "                    'CTKH-8':'hist','EF-2':'avg','EF-4':'avg','EF-8':'avg','Hist':'hist','RBU':'bayes',\n",
    "                    'NA':'avg','MG-2':'hist','MG-4':'hist','MG-8':'hist','KH-2':'hist','KH-4':'hist','KH-8':'hist'}\n",
    "\n",
    "# order = ['RBU','CTKH-2','MG-2','KH-2','CTKH-4','MG-4','KH-4','CTKH-8','MG-8','KH-8','Hist','EF-2','EF-4','EF-8','NA']\n",
    "# order = ['CTKH-4','CTKH-2','EF-2','EF-4','Hist','RBU','NA']\n",
    "order = ['RBU','CTKH-2','CTKH-4','CTKH-8','Hist','EF-2','EF-4','EF-8','NA']\n"
   ]
  },
  {
   "cell_type": "code",
   "execution_count": 21,
   "id": "756438be-493d-4de0-96b0-cec6527058a2",
   "metadata": {},
   "outputs": [
    {
     "name": "stdout",
     "output_type": "stream",
     "text": [
      "Index(['experiments', 'mIoU'], dtype='object')\n",
      "NA\n",
      "RBU\n",
      "Hist\n",
      "CTKH-2\n",
      "CTKH-4\n",
      "CTKH-8\n",
      "EF-2\n",
      "EF-4\n",
      "EF-8\n",
      "EF-8\n"
     ]
    },
    {
     "data": {
      "image/png": "[encoded data removed]",
      "text/plain": [
       "<Figure size 300x200 with 1 Axes>"
      ]
     },
     "metadata": {},
     "output_type": "display_data"
    }
   ],
   "source": [
    "plt.figure(figsize = (3,2))\n",
    "ious = pd.read_excel('C:/Users/valla/research_code/iros2025figuregen/3D IoUs.xlsx')\n",
    "print(ious.columns)\n",
    "ious.rename(columns = {'experiments':'method'},inplace = True)\n",
    "ious.loc[0,'method'] = 'NA'\n",
    "kind = []\n",
    "for tmp in ious.method.values:\n",
    "    print(tmp)\n",
    "    kind.append(exp_name_to_type[tmp])\n",
    "ious.loc[:,'kind'] = kind\n",
    "\n",
    "ax = sns.barplot(ious,x = 'method',y = 'mIoU',hue = 'kind',order = order, dodge = False)\n",
    "\n",
    "plt.xlabel('')\n",
    "plt.ylabel('mIoU$\\\\uparrow$')\n",
    "ax.legend().remove()\n",
    "ax.grid(visible = False)\n",
    "plt.xticks(rotation=90)\n",
    "plt.savefig('ScanNetpp Segformer mIoUs.png',bbox_inches = 'tight')"
   ]
  },
  {
   "cell_type": "markdown",
   "id": "6189b47f-d65a-4cfc-8fcb-a86025f9100b",
   "metadata": {},
   "source": [
    "# Now for the Eces"
   ]
  },
  {
   "cell_type": "code",
   "execution_count": 23,
   "id": "a4cfdf80-ec6d-44fd-951c-1d35f0edec30",
   "metadata": {},
   "outputs": [
    {
     "data": {
      "image/png": "[encoded data removed]",
      "text/plain": [
       "<Figure size 300x200 with 1 Axes>"
      ]
     },
     "metadata": {},
     "output_type": "display_data"
    }
   ],
   "source": [
    "plt.figure(figsize = (3,2))\n",
    "\n",
    "ious = pd.read_excel('C:/Users/valla/research_code/iros2025figuregen/ECEs by class and experiment_alt_finetuned.xlsx')\n",
    "ious.rename(columns = {'experiments':'method'},inplace = True)\n",
    "ious.loc[0,'method'] = 'NA'\n",
    "kind = []\n",
    "for tmp in ious.method.values:\n",
    "    kind.append(exp_name_to_type[tmp])\n",
    "ious.loc[:,'kind'] = kind\n",
    "\n",
    "ax = sns.barplot(ious,x = 'method',y = 'mECE -all',hue = 'kind',order = order, dodge = False)\n",
    "\n",
    "plt.xlabel('')\n",
    "plt.ylabel('mECE$\\\\downarrow$')\n",
    "ax.legend().remove()\n",
    "ax.grid(visible = False)\n",
    "plt.xticks(rotation=90)\n",
    "plt.savefig('ScanNetpp mECEs Segformer.png',bbox_inches = 'tight')"
   ]
  },
  {
   "cell_type": "markdown",
   "id": "f3f8e218-50d7-4c5f-b963-440b8b6f1c6f",
   "metadata": {},
   "source": [
    "# and Brier Scores"
   ]
  },
  {
   "cell_type": "code",
   "execution_count": null,
   "id": "633279c6-0994-4991-9fc0-9bb5bc648093",
   "metadata": {},
   "outputs": [
    {
     "data": {
      "image/png": "[encoded data removed]",
      "text/plain": [
       "<Figure size 300x200 with 1 Axes>"
      ]
     },
     "metadata": {},
     "output_type": "display_data"
    }
   ],
   "source": [
    "plt.figure(figsize = (3,2))\n",
    "\n",
    "ious = pd.read_excel('C:/Users/valla/research_code/iros2025figuregen/brier_scores.xlsx')\n",
    "ious.rename(columns = {'experiments':'method'},inplace = True)\n",
    "ious.loc[0,'method'] = 'NA'\n",
    "kind = []\n",
    "for tmp in ious.method.values:\n",
    "    kind.append(exp_name_to_type[tmp])\n",
    "ious.loc[:,'kind'] = kind\n",
    "\n",
    "ax = sns.barplot(ious,x = 'method',y = 'Brier',hue = 'kind',order = order, dodge = False)\n",
    "\n",
    "plt.xlabel('')\n",
    "plt.ylabel('Brier Score$\\\\downarrow$')\n",
    "ax.legend().remove()\n",
    "ax.grid(visible = False)\n",
    "plt.xticks(rotation=90)\n",
    "\n",
    "plt.savefig('ScanNetpp Segformer Brier Scores.png',bbox_inches = 'tight')"
   ]
  },
  {
   "cell_type": "code",
   "execution_count": 46,
   "id": "8b70da9f-6408-4d1d-a5e0-d6c967ea1501",
   "metadata": {},
   "outputs": [
    {
     "data": {
      "text/plain": [
       "4"
      ]
     },
     "execution_count": 46,
     "metadata": {},
     "output_type": "execute_result"
    }
   ],
   "source": [
    "round(3.5)"
   ]
  },
  {
   "cell_type": "code",
   "execution_count": 49,
   "id": "f86efcef-d6dc-4435-857e-f4d6a09e2833",
   "metadata": {},
   "outputs": [
    {
     "ename": "NameError",
     "evalue": "name 'ceiling' is not defined",
     "output_type": "error",
     "traceback": [
      "\u001b[0;31m---------------------------------------------------------------------------\u001b[0m",
      "\u001b[0;31mNameError\u001b[0m                                 Traceback (most recent call last)",
      "Cell \u001b[0;32mIn[49], line 1\u001b[0m\n\u001b[0;32m----> 1\u001b[0m \u001b[43mceiling\u001b[49m(\u001b[38;5;241m1\u001b[39m\u001b[38;5;241m/\u001b[39m\u001b[38;5;241m2\u001b[39m)\n",
      "\u001b[0;31mNameError\u001b[0m: name 'ceiling' is not defined"
     ]
    }
   ],
   "source": []
  },
  {
   "cell_type": "code",
   "execution_count": 145,
   "id": "1893e3c8-c86e-489a-873d-5dc11d9a30b4",
   "metadata": {},
   "outputs": [],
   "source": [
    "class Solution:\n",
    "    def reorderList(self, head: Optional[ListNode]) -> None:\n",
    "        \"\"\"\n",
    "        Do not return anything, modify head in-place instead.\n",
    "        \"\"\"\n",
    "        pointers_list = []\n",
    "        next_node = head.next\n",
    "        pointers_list.append(next_node)\n",
    "        while(next_node is not None):\n",
    "            pointers_list.append(next_node.next)\n",
    "            next_node = next_node.next\n",
    "        # now that we have the pointers list, we can just change the next pointers in reverse order\n",
    "        head.next = pointers_list[-2]\n",
    "        next_node = head.next\n",
    "        for node,inv_node in zip(pointers_list[:len(pointers_list)//2],pointers_list[len(pointers_list)//2:][::-1]):\n",
    "            next_node.next = node\n",
    "            next_node = node\n",
    "            next_node.next = inv_node\n",
    "            next_node = inv_node"
   ]
  },
  {
   "cell_type": "code",
   "execution_count": 146,
   "id": "bf640540-cbc7-44ad-be1c-674c0126c7a0",
   "metadata": {},
   "outputs": [
    {
     "name": "stdout",
     "output_type": "stream",
     "text": [
      "0 0 0\n",
      "6 5 5\n",
      "0 0 1\n",
      "6 5 5\n",
      "0 0 2\n",
      "6 5 5\n",
      "0 0 3\n",
      "6 5 5\n",
      "0 0 4\n",
      "6 5 5\n",
      "0 1 0\n",
      "6 5 4\n",
      "0 1 1\n",
      "6 5 4\n",
      "0 1 2\n",
      "6 5 4\n",
      "0 1 3\n",
      "6 5 4\n",
      "0 2 0\n",
      "6 5 3\n",
      "0 2 1\n",
      "6 5 3\n",
      "0 2 2\n",
      "6 5 3\n",
      "0 3 0\n",
      "6 5 2\n",
      "0 3 1\n",
      "6 5 2\n",
      "0 4 0\n",
      "6 5 1\n",
      "1 0 0\n",
      "6 4 5\n",
      "1 0 1\n",
      "6 4 5\n",
      "1 0 2\n",
      "6 4 5\n",
      "1 0 3\n",
      "6 4 5\n",
      "1 0 4\n",
      "6 4 5\n",
      "1 1 0\n",
      "6 4 4\n",
      "1 1 1\n",
      "6 4 4\n",
      "1 1 2\n",
      "6 4 4\n",
      "1 1 3\n",
      "6 4 4\n",
      "1 2 0\n",
      "6 4 3\n",
      "1 2 1\n",
      "6 4 3\n",
      "1 2 2\n",
      "6 4 3\n",
      "1 3 0\n",
      "6 4 2\n",
      "1 3 1\n",
      "6 4 2\n",
      "2 0 0\n",
      "6 3 5\n",
      "2 0 1\n",
      "6 3 5\n",
      "2 0 2\n",
      "6 3 5\n",
      "2 0 3\n",
      "6 3 5\n",
      "2 0 4\n",
      "6 3 5\n",
      "2 1 0\n",
      "6 3 4\n",
      "2 1 1\n",
      "6 3 4\n",
      "2 1 2\n",
      "6 3 4\n",
      "2 1 3\n",
      "6 3 4\n",
      "2 2 0\n",
      "6 3 3\n",
      "2 2 1\n",
      "6 3 3\n",
      "2 2 2\n",
      "6 3 3\n",
      "3 0 0\n",
      "6 2 5\n",
      "3 0 1\n",
      "6 2 5\n",
      "3 0 2\n",
      "6 2 5\n",
      "3 0 3\n",
      "6 2 5\n",
      "3 0 4\n",
      "6 2 5\n",
      "3 1 0\n",
      "6 2 4\n",
      "3 1 1\n",
      "6 2 4\n",
      "3 1 2\n",
      "6 2 4\n",
      "3 1 3\n",
      "6 2 4\n",
      "4 0 0\n",
      "6 1 5\n",
      "4 0 1\n",
      "6 1 5\n",
      "4 0 2\n",
      "6 1 5\n",
      "4 0 3\n",
      "6 1 5\n",
      "4 0 4\n",
      "6 1 5\n"
     ]
    },
    {
     "data": {
      "text/plain": [
       "[[-4, 2, 2], [-1, -1, 2], [-1, 0, 1], [-1, 1, 0], [0, 1, -1]]"
      ]
     },
     "execution_count": 146,
     "metadata": {},
     "output_type": "execute_result"
    }
   ],
   "source": [
    "threeSum([-1,0,1,2,-1,-4])"
   ]
  },
  {
   "cell_type": "code",
   "execution_count": 152,
   "id": "bf2ecb22-ace4-4d93-8636-f8245d7f5edb",
   "metadata": {},
   "outputs": [
    {
     "name": "stdout",
     "output_type": "stream",
     "text": [
      "0 a\n",
      "1 b\n",
      "2 c\n"
     ]
    }
   ],
   "source": [
    "tmp = ['a','b','c']\n",
    "for i,j in enumerate(tmp):\n",
    "    print(i,j)"
   ]
  },
  {
   "cell_type": "code",
   "execution_count": 153,
   "id": "767a918c-c887-4a6a-83a8-6ea5e246857b",
   "metadata": {},
   "outputs": [
    {
     "data": {
      "text/plain": [
       "15252"
      ]
     },
     "execution_count": 153,
     "metadata": {},
     "output_type": "execute_result"
    }
   ],
   "source": [
    "s = Solution()\n",
    "s.maxArea(height)"
   ]
  },
  {
   "cell_type": "code",
   "execution_count": 154,
   "id": "a89bd011-4030-4caa-8f74-dccf0b3968cf",
   "metadata": {},
   "outputs": [
    {
     "data": {
      "text/plain": [
       "14850"
      ]
     },
     "execution_count": 154,
     "metadata": {},
     "output_type": "execute_result"
    }
   ],
   "source": [
    "height[4],height[94]\n",
    "90*165"
   ]
  },
  {
   "cell_type": "code",
   "execution_count": 175,
   "id": "437c1d89-4d63-4998-8597-430835006166",
   "metadata": {},
   "outputs": [],
   "source": [
    "import heapq"
   ]
  },
  {
   "cell_type": "code",
   "execution_count": 185,
   "id": "bffd99ea-925a-465f-a9e1-521bcee20d1d",
   "metadata": {},
   "outputs": [],
   "source": [
    "a = np.arange(10).tolist()"
   ]
  },
  {
   "cell_type": "code",
   "execution_count": 186,
   "id": "e0e3648e-41ba-47a7-a4c3-a17b160c93e1",
   "metadata": {},
   "outputs": [],
   "source": [
    "heapq.heapify(a)"
   ]
  },
  {
   "cell_type": "code",
   "execution_count": 277,
   "id": "b5f52a8e-4a5d-45b9-a673-934d1ebc7aa8",
   "metadata": {},
   "outputs": [],
   "source": [
    "from collections import deque\n",
    "import time\n",
    "def combinationSum(candidates, target):\n",
    "        candidates.sort()\n",
    "\n",
    "        valid_outputs = set({})\n",
    "        rounds = 0\n",
    "        for basenum in range(len(candidates)):\n",
    "            tentative_sums = deque([candidates[basenum]])\n",
    "            sum_val = candidates[basenum]\n",
    "            i = basenum\n",
    "            k = 0\n",
    "            while(len(tentative_sums)>0):\n",
    "                start = tentative_sums.copy()\n",
    "                while(sum_val<target):\n",
    "                    tentative_sums.append(candidates[i])\n",
    "                    print(tentative_sums)\n",
    "\n",
    "                    sum_val += candidates[i]\n",
    "                if(sum_val == target):\n",
    "                    valid_outputs.add(tuple(tentative_sums))\n",
    "                last_val = tentative_sums.pop()\n",
    "                sum_val -=last_val\n",
    "                if(len(tentative_sums)>0):\n",
    "                    last_val = tentative_sums.pop()\n",
    "                    sum_val -= last_val\n",
    "                i+=1\n",
    "                if(i == len(candidates)):\n",
    "                    if(len(tentative_sums)>0):\n",
    "                                            \n",
    "                        k +=1\n",
    "\n",
    "                    #     last_val = tentative_sums.pop()\n",
    "                    #     sum_val -= last_val\n",
    "                    i = basenum+k\n",
    "                                \n",
    "        return list(valid_outputs)"
   ]
  },
  {
   "cell_type": "code",
   "execution_count": 278,
   "id": "0990b78b-c6bb-4abc-b4d1-742692942357",
   "metadata": {},
   "outputs": [
    {
     "name": "stdout",
     "output_type": "stream",
     "text": [
      "deque([2, 2])\n",
      "deque([2, 2, 2])\n",
      "deque([2, 2, 2, 2])\n",
      "deque([2, 2, 3])\n",
      "deque([2, 2, 3, 3])\n",
      "deque([2, 2, 5])\n",
      "deque([2, 3])\n",
      "deque([2, 3, 3])\n",
      "deque([2, 5])\n",
      "deque([2, 5, 5])\n",
      "deque([2, 5])\n",
      "deque([2, 5, 5])\n"
     ]
    },
    {
     "ename": "IndexError",
     "evalue": "list index out of range",
     "output_type": "error",
     "traceback": [
      "\u001b[0;31m---------------------------------------------------------------------------\u001b[0m",
      "\u001b[0;31mIndexError\u001b[0m                                Traceback (most recent call last)",
      "Cell \u001b[0;32mIn[278], line 1\u001b[0m\n\u001b[0;32m----> 1\u001b[0m res \u001b[38;5;241m=\u001b[39m \u001b[43mcombinationSum\u001b[49m\u001b[43m(\u001b[49m\u001b[43m[\u001b[49m\u001b[38;5;241;43m2\u001b[39;49m\u001b[43m,\u001b[49m\u001b[38;5;241;43m3\u001b[39;49m\u001b[43m,\u001b[49m\u001b[38;5;241;43m5\u001b[39;49m\u001b[43m]\u001b[49m\u001b[43m,\u001b[49m\u001b[38;5;241;43m8\u001b[39;49m\u001b[43m)\u001b[49m\n\u001b[1;32m      2\u001b[0m res\n",
      "Cell \u001b[0;32mIn[277], line 16\u001b[0m, in \u001b[0;36mcombinationSum\u001b[0;34m(candidates, target)\u001b[0m\n\u001b[1;32m     14\u001b[0m start \u001b[38;5;241m=\u001b[39m tentative_sums\u001b[38;5;241m.\u001b[39mcopy()\n\u001b[1;32m     15\u001b[0m \u001b[38;5;28;01mwhile\u001b[39;00m(sum_val\u001b[38;5;241m<\u001b[39mtarget):\n\u001b[0;32m---> 16\u001b[0m     tentative_sums\u001b[38;5;241m.\u001b[39mappend(\u001b[43mcandidates\u001b[49m\u001b[43m[\u001b[49m\u001b[43mi\u001b[49m\u001b[43m]\u001b[49m)\n\u001b[1;32m     17\u001b[0m     \u001b[38;5;28mprint\u001b[39m(tentative_sums)\n\u001b[1;32m     19\u001b[0m     sum_val \u001b[38;5;241m+\u001b[39m\u001b[38;5;241m=\u001b[39m candidates[i]\n",
      "\u001b[0;31mIndexError\u001b[0m: list index out of range"
     ]
    }
   ],
   "source": [
    "res = combinationSum([2,3,5],8)\n",
    "res"
   ]
  },
  {
   "cell_type": "code",
   "execution_count": null,
   "id": "69a18239-6966-4dff-9302-5bcd98be3ff0",
   "metadata": {},
   "outputs": [],
   "source": []
  },
  {
   "cell_type": "code",
   "execution_count": null,
   "id": "2c8bd13e-aed3-44d7-82a0-de583af8a04c",
   "metadata": {},
   "outputs": [],
   "source": []
  }
 ],
 "metadata": {
  "kernelspec": {
   "display_name": "3d_fusion",
   "language": "python",
   "name": "python3"
  },
  "language_info": {
   "codemirror_mode": {
    "name": "ipython",
    "version": 3
   },
   "file_extension": ".py",
   "mimetype": "text/x-python",
   "name": "python",
   "nbconvert_exporter": "python",
   "pygments_lexer": "ipython3",
   "version": "3.7.16"
  },
  "toc": {
   "base_numbering": 1,
   "nav_menu": {},
   "number_sections": true,
   "sideBar": true,
   "skip_h1_title": false,
   "title_cell": "Table of Contents",
   "title_sidebar": "Contents",
   "toc_cell": false,
   "toc_position": {},
   "toc_section_display": true,
   "toc_window_display": false
  }
 },
 "nbformat": 4,
 "nbformat_minor": 5
}
